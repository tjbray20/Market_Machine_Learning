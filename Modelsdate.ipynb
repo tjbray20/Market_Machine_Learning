{
 "cells": [
  {
   "cell_type": "code",
   "execution_count": 2,
   "metadata": {},
   "outputs": [],
   "source": [
    "import requests\n",
    "import io\n",
    "import pandas as pd\n",
    "import numpy as np\n",
    "import pandas_ta as ta\n",
    "import matplotlib.pyplot as plt\n",
    "from statsmodels.tsa.seasonal import seasonal_decompose\n",
    "from statsmodels.tsa.stattools import adfuller\n",
    "\n",
    "%matplotlib inline\n",
    "from sklearn.linear_model import LogisticRegression\n",
    "from sklearn.model_selection import cross_val_score, train_test_split,GridSearchCV\n",
    "from sklearn.metrics import plot_confusion_matrix, plot_roc_curve, accuracy_score, recall_score, precision_score, f1_score\n",
    "from sklearn.tree import DecisionTreeClassifier, plot_tree\n",
    "from sklearn.preprocessing import StandardScaler\n",
    "from sklearn.feature_selection import RFECV\n",
    "from xgboost import XGBClassifier\n",
    "\n",
    "from os import listdir\n",
    "from os.path import isfile, join\n",
    "\n",
    "import warnings\n",
    "warnings.filterwarnings(\"ignore\")"
   ]
  },
  {
   "cell_type": "code",
   "execution_count": 3,
   "metadata": {},
   "outputs": [],
   "source": [
    "df = pd.read_csv('AMZN_formatted.csv', index_col = 0)\n",
    "df.dropna(inplace = True)"
   ]
  },
  {
   "cell_type": "code",
   "execution_count": 4,
   "metadata": {},
   "outputs": [],
   "source": [
    "df.index = pd.to_datetime(df.index)"
   ]
  },
  {
   "cell_type": "code",
   "execution_count": 5,
   "metadata": {},
   "outputs": [],
   "source": [
    "df2 = df.drop(['sma252','sma50','ema22zone','ema252zone', 'ema50', 'BBU_5_2.0', 'ema7zone', 'sma22', 'ema50zone', 'BBL_5_2.0', 'BBM_5_2.0', 'ema22', 'sma7','ema252', 'dspic'],axis = 1)"
   ]
  },
  {
   "cell_type": "code",
   "execution_count": 6,
   "metadata": {},
   "outputs": [],
   "source": [
    "corrs = df2.corr().stack().reset_index()\n",
    "corrs.columns = ['1','2','R2']\n",
    "temp = corrs[(corrs.R2 > .8) & (corrs.R2 < .999)].sort_values('R2', ascending = False).reset_index(drop = True)\n",
    "correlations = temp[temp.index % 2 == 0]"
   ]
  },
  {
   "cell_type": "code",
   "execution_count": 7,
   "metadata": {},
   "outputs": [
    {
     "data": {
      "text/plain": [
       "m2       2\n",
       "low      1\n",
       "ema7     1\n",
       "open     1\n",
       "high     1\n",
       "close    1\n",
       "ir       1\n",
       "Name: 1, dtype: int64"
      ]
     },
     "execution_count": 7,
     "metadata": {},
     "output_type": "execute_result"
    }
   ],
   "source": [
    "correlations['1'].value_counts()"
   ]
  },
  {
   "cell_type": "code",
   "execution_count": 8,
   "metadata": {},
   "outputs": [],
   "source": [
    "df2 = df2[df2.index > '2010-1-1']"
   ]
  },
  {
   "cell_type": "code",
   "execution_count": 9,
   "metadata": {},
   "outputs": [],
   "source": [
    "X = df2.shift(1).dropna()\n",
    "y = df2['day_direction'].iloc[1:]"
   ]
  },
  {
   "cell_type": "code",
   "execution_count": 10,
   "metadata": {},
   "outputs": [
    {
     "name": "stdout",
     "output_type": "stream",
     "text": [
      "2410 602\n"
     ]
    }
   ],
   "source": [
    "train_num = round(len(X)*.8)\n",
    "test_num = round(len(X)*.2)\n",
    "print(train_num, test_num)"
   ]
  },
  {
   "cell_type": "code",
   "execution_count": 11,
   "metadata": {},
   "outputs": [],
   "source": [
    "X_train = X.iloc[:train_num]\n",
    "X_test = X.iloc[-test_num:]\n",
    "y_train = y.iloc[:train_num]\n",
    "y_test = y.iloc[-test_num:]"
   ]
  },
  {
   "cell_type": "code",
   "execution_count": 12,
   "metadata": {},
   "outputs": [],
   "source": [
    "ss = StandardScaler()\n",
    "X_train_scaled = ss.fit_transform(X_train)\n",
    "X_test_scaled = ss.transform(X_test)\n",
    "\n",
    "X_train_scaled = pd.DataFrame(X_train_scaled, columns=X_train.columns)\n",
    "X_test_scaled = pd.DataFrame(X_test_scaled, columns=X_test.columns)"
   ]
  },
  {
   "cell_type": "code",
   "execution_count": 13,
   "metadata": {},
   "outputs": [
    {
     "data": {
      "text/plain": [
       "Index(['low', 'open', 'volume', 'high', 'close', 'adjustedclose', 'rsi',\n",
       "       'BBB_5_2.0', 'BBP_5_2.0', 'ema7', 'day_direction',\n",
       "       'golden_crossover_short', 'death_crossover_short',\n",
       "       'golden_crossover_long', 'death_crossover_long', 'RSI_overbought_cross',\n",
       "       'RSI_oversold_cross', 'RSI_overbought', 'RSI_oversold', 'momentum',\n",
       "       'psr', 'm2', 'ccpi', 'ir', 'ffer'],\n",
       "      dtype='object')"
      ]
     },
     "execution_count": 13,
     "metadata": {},
     "output_type": "execute_result"
    }
   ],
   "source": [
    "X_train_scaled.columns"
   ]
  },
  {
   "cell_type": "code",
   "execution_count": 14,
   "metadata": {},
   "outputs": [],
   "source": [
    "def feature_select(X_train,y_train,estimator,min_features,step=1):\n",
    "    estimator=estimator()\n",
    "    selector=RFECV(estimator,min_features_to_select=min_features,step=step)\n",
    "    selector.fit(X_train,y_train)\n",
    "    selector.ranking_\n",
    "    feature_dict=dict(zip(X_train.columns, selector.ranking_))\n",
    "    best_pred = [k for (k,v) in feature_dict.items() if v == 1]\n",
    "    \n",
    "    return best_pred"
   ]
  },
  {
   "cell_type": "code",
   "execution_count": 15,
   "metadata": {},
   "outputs": [],
   "source": [
    "logreg_feat=feature_select(X_train_scaled,y_train,LogisticRegression,min_features=10)\n",
    "X_train_best_log = X_train_scaled[logreg_feat]\n",
    "X_test_best_log = X_test_scaled[logreg_feat]"
   ]
  },
  {
   "cell_type": "code",
   "execution_count": 16,
   "metadata": {},
   "outputs": [],
   "source": [
    "def logreg(X_train, X_test, y_train, y_test, cv=5):\n",
    "    \n",
    "    # Set GridSearchCV hyperparameters to compare & select\n",
    "    grid = {\n",
    "    'penalty': ['l1', 'l2' ,'elasticnet'],\n",
    "    'solver': ['newton-cg', 'lbfgs', 'liblinear', 'sag', 'saga']}\n",
    "    \n",
    "    # Instantiate & fit LogReg model for GridSearch\n",
    "    grid_logreg = LogisticRegression(random_state=42)\n",
    "    \n",
    "    # Instantiate & fit GridSearchCV with accuracy scoring\n",
    "    gs = GridSearchCV(estimator=grid_logreg, param_grid=grid, cv=cv,\n",
    "                      scoring='accuracy', n_jobs = -1)\n",
    "    gs.fit(X_train, y_train)\n",
    "    \n",
    "    # Return best hyperparameters\n",
    "    logreg_params = gs.best_params_\n",
    "    \n",
    "    # Use best penalty from best_params\n",
    "    logreg_penalty = logreg_params['penalty']\n",
    "    print(f'Penalty: {logreg_penalty}')\n",
    "    \n",
    "    # Use best solver from best_params\n",
    "    logreg_solver = logreg_params['solver']\n",
    "    print(f'Solver: {logreg_solver}')\n",
    "    \n",
    "    # Create prediction variable using test data\n",
    "    y_pred = gs.predict(X_test)\n",
    "    \n",
    "    # Run cross-validate score with cv folds from function parameter\n",
    "    cv_results = cross_val_score(gs, X_train, y_train, cv=cv)\n",
    "    print(f'Mean Cross-Val Score: {cv_results.mean()}')\n",
    "    \n",
    "    # Run and print accuracy, recall, precision and f1 scores\n",
    "    train_score = gs.score(X_train, y_train)\n",
    "    print(f'Train Mean Accuracy: {train_score}')\n",
    "    test_score = gs.score(X_test, y_test)\n",
    "    print(f'Test Mean Accuracy: {test_score}')\n",
    "  \n",
    "    rec_score = recall_score(y_test, y_pred)\n",
    "    print(f'Recall Score: {rec_score}')\n",
    "    \n",
    "    prec_score = precision_score(y_test, y_pred)\n",
    "    print(f'Precision Score: {prec_score}')\n",
    "    \n",
    "    f1 = f1_score(y_test, y_pred)\n",
    "    print(f'F1 Score: {f1}')\n",
    "    \n",
    "    # Plot an ROC curve (only works with binary data)\n",
    "    fig, ax = plt.subplots()\n",
    "    plot_roc_curve(gs, X_train, y_train, name='train', ax=ax)\n",
    "    plot_roc_curve(gs, X_test, y_test, name='test', ax=ax)\n",
    "    \n",
    "    # Plot Confusion Matrix\n",
    "    plot_confusion_matrix(gs, X_train, y_train)\n",
    "    plot_confusion_matrix(gs, X_test, y_test)"
   ]
  },
  {
   "cell_type": "code",
   "execution_count": 17,
   "metadata": {},
   "outputs": [
    {
     "name": "stdout",
     "output_type": "stream",
     "text": [
      "Penalty: l1\n",
      "Solver: saga\n",
      "Mean Cross-Val Score: 0.5120331950207468\n",
      "Train Mean Accuracy: 0.5369294605809128\n",
      "Test Mean Accuracy: 0.47840531561461797\n",
      "Recall Score: 0.2413793103448276\n",
      "Precision Score: 0.5167785234899329\n",
      "F1 Score: 0.32905982905982906\n"
     ]
    },
    {
     "data": {
      "image/png": "[encoded data removed]",
      "text/plain": [
       "<Figure size 432x288 with 1 Axes>"
      ]
     },
     "metadata": {
      "needs_background": "light"
     },
     "output_type": "display_data"
    },
    {
     "data": {
      "image/png": "[encoded data removed]",
      "text/plain": [
       "<Figure size 432x288 with 2 Axes>"
      ]
     },
     "metadata": {
      "needs_background": "light"
     },
     "output_type": "display_data"
    },
    {
     "data": {
      "image/png": "[encoded data removed]",
      "text/plain": [
       "<Figure size 432x288 with 2 Axes>"
      ]
     },
     "metadata": {
      "needs_background": "light"
     },
     "output_type": "display_data"
    }
   ],
   "source": [
    "logreg(X_train_best_log, X_test_best_log, y_train, y_test)"
   ]
  },
  {
   "cell_type": "code",
   "execution_count": 18,
   "metadata": {},
   "outputs": [],
   "source": [
    "def dtree(X_train, X_test, y_train, y_test, cv=5):\n",
    "    \n",
    "    # Set GridSearchCV hyperparameters to compare & select\n",
    "    grid = {\n",
    "    'max_depth': [3,10,15],\n",
    "    'min_samples_split': [2,8,10,15],\n",
    "    'criterion': ['gini', 'entropy']}\n",
    "    \n",
    "    # Instantiate & fit Decision Tree model for GridSearch\n",
    "    grid_dt = DecisionTreeClassifier()\n",
    "    grid_dt.fit(X_train, y_train)\n",
    "    \n",
    "    # Instantiate & fit GridSearchCV with accuracy scoring\n",
    "    gs = GridSearchCV(estimator=grid_dt, param_grid=grid, cv=cv, scoring='accuracy', n_jobs = -1)\n",
    "    gs.fit(X_train, y_train)\n",
    "    \n",
    "    # Return best hyperparameters\n",
    "    dt_params = gs.best_params_\n",
    "    \n",
    "    # Use best max depth from best_params\n",
    "    dt_max_depth = dt_params['max_depth']\n",
    "    print(f'Max Depth: {dt_max_depth}')\n",
    "    \n",
    "    # Use best minimum sample split from best_params\n",
    "    dt_min_samp = dt_params['min_samples_split']\n",
    "    print(f'Min Sample Split: {dt_min_samp}')\n",
    "    \n",
    "    # Use best criterion from best_params\n",
    "    dt_criterion = dt_params['criterion']\n",
    "    print(f'criterion: {dt_criterion}')\n",
    "    \n",
    "    # Instantiate & fit Decision Tree model (don't need to do this)\n",
    "   # dtree = DecisionTreeClassifier(max_depth=dt_max_depth, criterion=dt_criterion,\n",
    "           #                        min_samples_split=dt_min_samp, random_state=42)\n",
    "    #dtree.fit(X_train, y_train)\n",
    "    \n",
    "    # Create prediction variable using test data\n",
    "    y_pred = gs.predict(X_test)\n",
    "    \n",
    "    # Run cross-validate score with cv folds from function parameter\n",
    "    cv_results = cross_val_score(gs, X_train, y_train, cv=cv)\n",
    "    print(f'Mean Cross-Val Score: {cv_results.mean()}')\n",
    "    \n",
    "    # Run and print accuracy, recall, precision and f1 scores\n",
    "    train_score = gs.score(X_train, y_train)\n",
    "    print(f'Train Mean Accuracy: {train_score}')\n",
    "    test_score = gs.score(X_test, y_test)\n",
    "    print(f'Test Mean Accuracy: {test_score}')\n",
    "    \n",
    "    rec_score = recall_score(y_test, y_pred)\n",
    "    print(f'Recall Score: {rec_score}')\n",
    "    \n",
    "    prec_score = precision_score(y_test, y_pred)\n",
    "    print(f'Precision Score: {prec_score}')\n",
    "    \n",
    "    f1 = f1_score(y_test, y_pred)\n",
    "    print(f'F1 score: {f1}')\n",
    "    \n",
    "    # Plot an ROC curve (only works with binary data)\n",
    "    fig, ax = plt.subplots()\n",
    "    plot_roc_curve(gs, X_train, y_train, name='train', ax=ax)\n",
    "    plot_roc_curve(gs, X_test, y_test, name='test', ax=ax)\n",
    "    \n",
    "    # Plot Confusion Matrix\n",
    "    plot_confusion_matrix(gs, X_train, y_train)\n",
    "    plot_confusion_matrix(gs, X_test, y_test)"
   ]
  },
  {
   "cell_type": "code",
   "execution_count": 19,
   "metadata": {},
   "outputs": [
    {
     "name": "stdout",
     "output_type": "stream",
     "text": [
      "Max Depth: 3\n",
      "Min Sample Split: 2\n",
      "criterion: entropy\n",
      "Mean Cross-Val Score: 0.48755186721991695\n",
      "Train Mean Accuracy: 0.5452282157676348\n",
      "Test Mean Accuracy: 0.5282392026578073\n",
      "Recall Score: 0.9655172413793104\n",
      "Precision Score: 0.5301204819277109\n",
      "F1 score: 0.6844444444444445\n"
     ]
    },
    {
     "data": {
      "image/png": "[encoded data removed]",
      "text/plain": [
       "<Figure size 432x288 with 1 Axes>"
      ]
     },
     "metadata": {
      "needs_background": "light"
     },
     "output_type": "display_data"
    },
    {
     "data": {
      "image/png": "[encoded data removed]",
      "text/plain": [
       "<Figure size 432x288 with 2 Axes>"
      ]
     },
     "metadata": {
      "needs_background": "light"
     },
     "output_type": "display_data"
    },
    {
     "data": {
      "image/png": "[encoded data removed]",
      "text/plain": [
       "<Figure size 432x288 with 2 Axes>"
      ]
     },
     "metadata": {
      "needs_background": "light"
     },
     "output_type": "display_data"
    }
   ],
   "source": [
    "dtree(X_train,X_test,y_train,y_test)"
   ]
  },
  {
   "cell_type": "code",
   "execution_count": 20,
   "metadata": {},
   "outputs": [],
   "source": [
    "from sklearn.ensemble import BaggingClassifier, RandomForestClassifier\n",
    "def random_forest(X_train, X_test, y_train, y_test, cv=5):\n",
    "    \n",
    "    # Set GridSearchCV hyperparameters to compare & select\n",
    "    grid = {\n",
    "    'n_estimators': [75,90,100,110,115,125,150,500],\n",
    "    'criterion': ['gini', 'entropy']}\n",
    "    \n",
    "    # Instantiate & fit Random Forest model for GridSearch\n",
    "    grid_rf = RandomForestClassifier()\n",
    "    \n",
    "    # Instantiate & fit GridSearchCV with accuracy scoring\n",
    "    gs = GridSearchCV(estimator=grid_rf, param_grid=grid, cv=cv, scoring='accuracy', n_jobs = -1)\n",
    "    gs.fit(X_train, y_train)\n",
    "    \n",
    "    # Return best hyperparameters\n",
    "    rf_params = gs.best_params_\n",
    "    \n",
    "    # Use best # of trees from best_params\n",
    "    rf_n_estimators = rf_params['n_estimators']\n",
    "    print(f'Number of Trees: {rf_n_estimators}')\n",
    "    \n",
    "    # Use best criterion from best_params\n",
    "    rf_criterion = rf_params['criterion']\n",
    "    print(f'Criterion: {rf_criterion}')\n",
    "    \n",
    "    # Instantiate & fit Random Forest model(don't need to do this)\n",
    "    #rforest = RandomForestClassifier(n_estimators=rf_n_estimators, criterion=rf_criterion,\n",
    "                                   # random_state=42)\n",
    "   # rforest.fit(X_train, y_train)\n",
    "    \n",
    "    # Create prediction variable using test data\n",
    "    y_pred = gs.predict(X_test)\n",
    "    \n",
    "    # Run cross-validate score with cv folds from function parameter\n",
    "    cv_results = cross_val_score(gs, X_train, y_train, cv=cv)\n",
    "    print(f'Mean Cross-Val Score: {cv_results.mean()}')\n",
    "    \n",
    "    # Run and print accuracy, recall, precision and f1 scores\n",
    "    train_score = gs.score(X_train, y_train)\n",
    "    print(f'Train Mean Accuracy: {train_score}')\n",
    "    test_score = gs.score(X_test, y_test)\n",
    "    print(f'Test Mean Accuracy: {test_score}')\n",
    "    \n",
    "    rec_score = recall_score(y_test, y_pred)\n",
    "    print(f'Recall Score: {rec_score}')\n",
    "    \n",
    "    prec_score = precision_score(y_test, y_pred)\n",
    "    print(f'Precision Score: {prec_score}')\n",
    "    \n",
    "    f1 = f1_score(y_test, y_pred)\n",
    "    print(f'F1 score: {f1}')\n",
    "    \n",
    "    # Plot an ROC curve (only works with binary data)\n",
    "    fig, ax = plt.subplots()\n",
    "    plot_roc_curve(gs, X_train, y_train, name='train', ax=ax)\n",
    "    plot_roc_curve(gs, X_test, y_test, name='test', ax=ax)\n",
    "    \n",
    "    # Plot Confusion Matrix\n",
    "    plot_confusion_matrix(gs, X_train, y_train)\n",
    "    plot_confusion_matrix(gs, X_test, y_test);\n"
   ]
  },
  {
   "cell_type": "code",
   "execution_count": 21,
   "metadata": {},
   "outputs": [],
   "source": [
    "#random_forest(X_train, X_test, y_train, y_test)"
   ]
  },
  {
   "cell_type": "code",
   "execution_count": 22,
   "metadata": {},
   "outputs": [],
   "source": [
    "def xgboost(X_train, X_test, y_train, y_test, cv=5):\n",
    "    \n",
    "    # Set GridSearchCV hyperparameters to compare & select\n",
    "    grid = {\n",
    "    'learning_rate': [.01,.05,.1,.5,1],\n",
    "    'max_depth': [4],\n",
    "    'min_child_weight': [3],\n",
    "    'subsample': [1],\n",
    "    'n_estimators': [100,500]}\n",
    "    \n",
    "    # Instantiate & fit XGClassifier\n",
    "    xgb = XGBClassifier(verbosity=0, random_state=42)\n",
    "    #xgb.fit(X_train, y_train)\n",
    "    \n",
    "    # Instantiate & fit GridSearchCV with accuracy scoring\n",
    "    gs = GridSearchCV(estimator=xgb, param_grid=grid, cv=cv, scoring='accuracy', n_jobs = -1)\n",
    "    gs.fit(X_train, y_train)\n",
    "    \n",
    "    # Return best hyperparameters\n",
    "    xgb_params = gs.best_params_\n",
    "    \n",
    "    # Use best learning rate from best_params\n",
    "    xgb_lr = xgb_params['learning_rate']\n",
    "    print(f'XGBoost Learning Rate: {xgb_lr}')\n",
    "    \n",
    "    # Use best max depth from best_params\n",
    "    xgb_max_depth = xgb_params['max_depth']\n",
    "    print(f'XGBoost Max Depth: {xgb_max_depth}')\n",
    "    \n",
    "    # Use best min child weight from best_params\n",
    "    xgb_min_child_weight = xgb_params['min_child_weight']\n",
    "    print(f'XGBoost Min Child Weight: {xgb_min_child_weight}')\n",
    "    \n",
    "    # Use best subsample from best_params\n",
    "    xgb_subsample = xgb_params['subsample']\n",
    "    print(f'XGBoost Subsample: {xgb_subsample}')\n",
    "    \n",
    "    # Use best estimators from best_params\n",
    "    xgb_estimators = xgb_params['n_estimators']\n",
    "    print(f'XGBoost Estimators: {xgb_estimators}')\n",
    "    \n",
    "    # Create prediction variable using test data\n",
    "    y_pred = gs.predict(X_test)\n",
    "    \n",
    "    # Run cross-validate score with cv folds from function parameter\n",
    "    cv_results = cross_val_score(gs, X_train, y_train, cv=cv)\n",
    "    print(f'Mean Cross-Val Score: {cv_results.mean()}')\n",
    "    \n",
    "    # Run and print accuracy, recall, precision and f1 scores\n",
    "    train_score = gs.score(X_train, y_train)\n",
    "    print(f'Train Mean Accuracy Score: {train_score}')\n",
    "    test_score = gs.score(X_test, y_test)\n",
    "    print(f'Test Mean Accuracy Score: {test_score}')\n",
    "    \n",
    "    rec_score = recall_score(y_test, y_pred)\n",
    "    print(f'Recall Score: {rec_score}')\n",
    "    \n",
    "    prec_score = precision_score(y_test, y_pred)\n",
    "    print(f'Precision Score: {prec_score}')\n",
    "    \n",
    "    f1 = f1_score(y_test, y_pred)\n",
    "    print(f'F1 score: {f1}')\n",
    "    \n",
    "    # Plot an ROC curve (only works with binary data)\n",
    "    fig, ax = plt.subplots()\n",
    "    plot_roc_curve(gs, X_train, y_train, name='train', ax=ax)\n",
    "    plot_roc_curve(gs, X_test, y_test, name='test', ax=ax)\n",
    "    \n",
    "    # Plot Confusion Matrix\n",
    "    plot_confusion_matrix(gs, X_train, y_train)\n",
    "    plot_confusion_matrix(gs, X_test, y_test);"
   ]
  },
  {
   "cell_type": "code",
   "execution_count": 23,
   "metadata": {},
   "outputs": [
    {
     "name": "stdout",
     "output_type": "stream",
     "text": [
      "XGBoost Learning Rate: 1\n",
      "XGBoost Max Depth: 4\n",
      "XGBoost Min Child Weight: 3\n",
      "XGBoost Subsample: 1\n",
      "XGBoost Estimators: 500\n",
      "Mean Cross-Val Score: 0.46390041493775935\n",
      "Train Mean Accuracy Score: 1.0\n",
      "Test Mean Accuracy Score: 0.5132890365448505\n",
      "Recall Score: 0.45454545454545453\n",
      "Precision Score: 0.5492424242424242\n",
      "F1 score: 0.4974271012006861\n"
     ]
    },
    {
     "data": {
      "image/png": "[encoded data removed]",
      "text/plain": [
       "<Figure size 432x288 with 1 Axes>"
      ]
     },
     "metadata": {
      "needs_background": "light"
     },
     "output_type": "display_data"
    },
    {
     "data": {
      "image/png": "[encoded data removed]",
      "text/plain": [
       "<Figure size 432x288 with 2 Axes>"
      ]
     },
     "metadata": {
      "needs_background": "light"
     },
     "output_type": "display_data"
    },
    {
     "data": {
      "image/png": "[encoded data removed]",
      "text/plain": [
       "<Figure size 432x288 with 2 Axes>"
      ]
     },
     "metadata": {
      "needs_background": "light"
     },
     "output_type": "display_data"
    }
   ],
   "source": [
    "xgboost(X_train_scaled, X_test_scaled, y_train, y_test)"
   ]
  },
  {
   "cell_type": "code",
   "execution_count": null,
   "metadata": {},
   "outputs": [],
   "source": []
  },
  {
   "cell_type": "code",
   "execution_count": null,
   "metadata": {},
   "outputs": [],
   "source": []
  }
 ],
 "metadata": {
  "kernelspec": {
   "display_name": "Python (learn-env)",
   "language": "python",
   "name": "learn-env"
  },
  "language_info": {
   "codemirror_mode": {
    "name": "ipython",
    "version": 3
   },
   "file_extension": ".py",
   "mimetype": "text/x-python",
   "name": "python",
   "nbconvert_exporter": "python",
   "pygments_lexer": "ipython3",
   "version": "3.8.5"
  }
 },
 "nbformat": 4,
 "nbformat_minor": 4
}
