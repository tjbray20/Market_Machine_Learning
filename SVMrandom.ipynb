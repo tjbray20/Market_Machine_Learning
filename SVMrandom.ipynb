{
 "cells": [
  {
   "cell_type": "code",
   "execution_count": 22,
   "metadata": {},
   "outputs": [],
   "source": [
    "import matplotlib.pyplot as plt\n",
    "import numpy as np\n",
    "import pandas as pd\n",
    "\n",
    "import statsmodels.api as sm\n",
    "from statsmodels.regression.rolling import RollingOLS\n",
    "\n",
    "from sklearn.model_selection import cross_val_score, train_test_split,GridSearchCV\n",
    "from sklearn.metrics import plot_confusion_matrix, plot_roc_curve, accuracy_score, recall_score, precision_score, f1_score, mean_squared_error\n",
    "from sklearn.tree import DecisionTreeClassifier, plot_tree\n",
    "from sklearn.preprocessing import StandardScaler\n",
    "\n",
    "from sklearn.svm import LinearSVR\n",
    "\n",
    "%matplotlib inline"
   ]
  },
  {
   "cell_type": "code",
   "execution_count": 23,
   "metadata": {},
   "outputs": [],
   "source": [
    "df = pd.read_csv('AMZN_formatted.csv', index_col = 0)\n",
    "df.dropna(inplace = True)"
   ]
  },
  {
   "cell_type": "code",
   "execution_count": 24,
   "metadata": {},
   "outputs": [],
   "source": [
    "df.index = pd.to_datetime(df.index)"
   ]
  },
  {
   "cell_type": "code",
   "execution_count": 25,
   "metadata": {},
   "outputs": [],
   "source": [
    "df2 = df.drop(['sma252','sma50','ema22zone','ema252zone', 'ema50', 'BBU_5_2.0', 'ema7zone', 'sma22', 'ema50zone', 'BBL_5_2.0', 'BBM_5_2.0', 'ema22', 'sma7','ema252'],axis = 1)"
   ]
  },
  {
   "cell_type": "code",
   "execution_count": 26,
   "metadata": {},
   "outputs": [],
   "source": [
    "corrs = df2.corr().stack().reset_index()\n",
    "corrs.columns = ['1','2','R2']\n",
    "temp = corrs[(corrs.R2 > .8) & (corrs.R2 < .999)].sort_values('R2', ascending = False).reset_index(drop = True)\n",
    "correlations = temp[temp.index % 2 == 0]"
   ]
  },
  {
   "cell_type": "code",
   "execution_count": 27,
   "metadata": {},
   "outputs": [
    {
     "data": {
      "text/html": [
       "<div>\n",
       "<style scoped>\n",
       "    .dataframe tbody tr th:only-of-type {\n",
       "        vertical-align: middle;\n",
       "    }\n",
       "\n",
       "    .dataframe tbody tr th {\n",
       "        vertical-align: top;\n",
       "    }\n",
       "\n",
       "    .dataframe thead th {\n",
       "        text-align: right;\n",
       "    }\n",
       "</style>\n",
       "<table border=\"1\" class=\"dataframe\">\n",
       "  <thead>\n",
       "    <tr style=\"text-align: right;\">\n",
       "      <th></th>\n",
       "      <th>1</th>\n",
       "      <th>2</th>\n",
       "      <th>R2</th>\n",
       "    </tr>\n",
       "  </thead>\n",
       "  <tbody>\n",
       "  </tbody>\n",
       "</table>\n",
       "</div>"
      ],
      "text/plain": [
       "Empty DataFrame\n",
       "Columns: [1, 2, R2]\n",
       "Index: []"
      ]
     },
     "execution_count": 27,
     "metadata": {},
     "output_type": "execute_result"
    }
   ],
   "source": [
    "correlations"
   ]
  },
  {
   "cell_type": "code",
   "execution_count": 28,
   "metadata": {},
   "outputs": [],
   "source": [
    "df2 = df2[df2.index > '2010-1-1']"
   ]
  },
  {
   "cell_type": "code",
   "execution_count": 29,
   "metadata": {},
   "outputs": [],
   "source": [
    "X = df2.shift(1).dropna()\n",
    "y = df2['adjustedclose'].iloc[1:]"
   ]
  },
  {
   "cell_type": "code",
   "execution_count": 30,
   "metadata": {},
   "outputs": [],
   "source": [
    "X_train, X_test, y_train, y_test = train_test_split(X,y,random_state = 42, test_size = .2)"
   ]
  },
  {
   "cell_type": "code",
   "execution_count": 31,
   "metadata": {},
   "outputs": [],
   "source": [
    "ss = StandardScaler()\n",
    "X_train_scaled = ss.fit_transform(X_train)\n",
    "X_test_scaled = ss.transform(X_test)\n",
    "\n",
    "X_train_scaled = pd.DataFrame(X_train_scaled, columns=X_train.columns)\n",
    "X_test_scaled = pd.DataFrame(X_test_scaled, columns=X_test.columns)"
   ]
  },
  {
   "cell_type": "code",
   "execution_count": 32,
   "metadata": {},
   "outputs": [
    {
     "data": {
      "text/html": [
       "<div>\n",
       "<style scoped>\n",
       "    .dataframe tbody tr th:only-of-type {\n",
       "        vertical-align: middle;\n",
       "    }\n",
       "\n",
       "    .dataframe tbody tr th {\n",
       "        vertical-align: top;\n",
       "    }\n",
       "\n",
       "    .dataframe thead th {\n",
       "        text-align: right;\n",
       "    }\n",
       "</style>\n",
       "<table border=\"1\" class=\"dataframe\">\n",
       "  <thead>\n",
       "    <tr style=\"text-align: right;\">\n",
       "      <th></th>\n",
       "      <th>low</th>\n",
       "      <th>open</th>\n",
       "      <th>volume</th>\n",
       "      <th>high</th>\n",
       "      <th>close</th>\n",
       "      <th>adjustedclose</th>\n",
       "      <th>rsi</th>\n",
       "      <th>BBB_5_2.0</th>\n",
       "      <th>BBP_5_2.0</th>\n",
       "      <th>ema7</th>\n",
       "      <th>day_direction</th>\n",
       "      <th>golden_crossover_short</th>\n",
       "      <th>death_crossover_short</th>\n",
       "      <th>golden_crossover_long</th>\n",
       "      <th>death_crossover_long</th>\n",
       "      <th>RSI_overbought_cross</th>\n",
       "      <th>RSI_oversold_cross</th>\n",
       "      <th>RSI_overbought</th>\n",
       "      <th>RSI_oversold</th>\n",
       "      <th>momentum</th>\n",
       "    </tr>\n",
       "  </thead>\n",
       "  <tbody>\n",
       "    <tr>\n",
       "      <th>0</th>\n",
       "      <td>-0.513044</td>\n",
       "      <td>-0.470734</td>\n",
       "      <td>6.569028</td>\n",
       "      <td>-0.474891</td>\n",
       "      <td>-0.518822</td>\n",
       "      <td>-0.518822</td>\n",
       "      <td>2.344303</td>\n",
       "      <td>2.147055</td>\n",
       "      <td>1.588133</td>\n",
       "      <td>-0.554139</td>\n",
       "      <td>0.945446</td>\n",
       "      <td>-0.117851</td>\n",
       "      <td>-0.126598</td>\n",
       "      <td>-0.035311</td>\n",
       "      <td>-0.028826</td>\n",
       "      <td>-0.158450</td>\n",
       "      <td>-0.076456</td>\n",
       "      <td>2.971978</td>\n",
       "      <td>-0.093776</td>\n",
       "      <td>0.941558</td>\n",
       "    </tr>\n",
       "    <tr>\n",
       "      <th>1</th>\n",
       "      <td>-0.787674</td>\n",
       "      <td>-0.786468</td>\n",
       "      <td>-0.841874</td>\n",
       "      <td>-0.788599</td>\n",
       "      <td>-0.788975</td>\n",
       "      <td>-0.788975</td>\n",
       "      <td>-0.543093</td>\n",
       "      <td>-0.425710</td>\n",
       "      <td>-0.835754</td>\n",
       "      <td>-0.785501</td>\n",
       "      <td>-1.057702</td>\n",
       "      <td>-0.117851</td>\n",
       "      <td>-0.126598</td>\n",
       "      <td>-0.035311</td>\n",
       "      <td>-0.028826</td>\n",
       "      <td>-0.158450</td>\n",
       "      <td>-0.076456</td>\n",
       "      <td>-0.336476</td>\n",
       "      <td>-0.093776</td>\n",
       "      <td>-0.230154</td>\n",
       "    </tr>\n",
       "    <tr>\n",
       "      <th>2</th>\n",
       "      <td>-0.733516</td>\n",
       "      <td>-0.730695</td>\n",
       "      <td>-0.165466</td>\n",
       "      <td>-0.730978</td>\n",
       "      <td>-0.733349</td>\n",
       "      <td>-0.733349</td>\n",
       "      <td>-1.270621</td>\n",
       "      <td>0.047518</td>\n",
       "      <td>0.773162</td>\n",
       "      <td>-0.731333</td>\n",
       "      <td>0.945446</td>\n",
       "      <td>-0.117851</td>\n",
       "      <td>-0.126598</td>\n",
       "      <td>-0.035311</td>\n",
       "      <td>-0.028826</td>\n",
       "      <td>-0.158450</td>\n",
       "      <td>-0.076456</td>\n",
       "      <td>-0.336476</td>\n",
       "      <td>-0.093776</td>\n",
       "      <td>-0.339154</td>\n",
       "    </tr>\n",
       "    <tr>\n",
       "      <th>3</th>\n",
       "      <td>-0.153082</td>\n",
       "      <td>-0.157429</td>\n",
       "      <td>-0.757403</td>\n",
       "      <td>-0.165341</td>\n",
       "      <td>-0.161186</td>\n",
       "      <td>-0.161186</td>\n",
       "      <td>0.388189</td>\n",
       "      <td>-1.233448</td>\n",
       "      <td>-1.281094</td>\n",
       "      <td>-0.158289</td>\n",
       "      <td>-1.057702</td>\n",
       "      <td>-0.117851</td>\n",
       "      <td>-0.126598</td>\n",
       "      <td>-0.035311</td>\n",
       "      <td>-0.028826</td>\n",
       "      <td>-0.158450</td>\n",
       "      <td>-0.076456</td>\n",
       "      <td>-0.336476</td>\n",
       "      <td>-0.093776</td>\n",
       "      <td>-0.125515</td>\n",
       "    </tr>\n",
       "    <tr>\n",
       "      <th>4</th>\n",
       "      <td>2.102230</td>\n",
       "      <td>2.077879</td>\n",
       "      <td>-0.821611</td>\n",
       "      <td>2.054960</td>\n",
       "      <td>2.074768</td>\n",
       "      <td>2.074768</td>\n",
       "      <td>-0.857408</td>\n",
       "      <td>-0.940601</td>\n",
       "      <td>-0.542727</td>\n",
       "      <td>2.093875</td>\n",
       "      <td>0.945446</td>\n",
       "      <td>-0.117851</td>\n",
       "      <td>-0.126598</td>\n",
       "      <td>-0.035311</td>\n",
       "      <td>-0.028826</td>\n",
       "      <td>-0.158450</td>\n",
       "      <td>-0.076456</td>\n",
       "      <td>-0.336476</td>\n",
       "      <td>-0.093776</td>\n",
       "      <td>-0.645099</td>\n",
       "    </tr>\n",
       "    <tr>\n",
       "      <th>...</th>\n",
       "      <td>...</td>\n",
       "      <td>...</td>\n",
       "      <td>...</td>\n",
       "      <td>...</td>\n",
       "      <td>...</td>\n",
       "      <td>...</td>\n",
       "      <td>...</td>\n",
       "      <td>...</td>\n",
       "      <td>...</td>\n",
       "      <td>...</td>\n",
       "      <td>...</td>\n",
       "      <td>...</td>\n",
       "      <td>...</td>\n",
       "      <td>...</td>\n",
       "      <td>...</td>\n",
       "      <td>...</td>\n",
       "      <td>...</td>\n",
       "      <td>...</td>\n",
       "      <td>...</td>\n",
       "      <td>...</td>\n",
       "    </tr>\n",
       "    <tr>\n",
       "      <th>2404</th>\n",
       "      <td>-0.314870</td>\n",
       "      <td>-0.315533</td>\n",
       "      <td>-0.559928</td>\n",
       "      <td>-0.322569</td>\n",
       "      <td>-0.318111</td>\n",
       "      <td>-0.318111</td>\n",
       "      <td>0.637856</td>\n",
       "      <td>-0.319474</td>\n",
       "      <td>0.716583</td>\n",
       "      <td>-0.326115</td>\n",
       "      <td>-1.057702</td>\n",
       "      <td>-0.117851</td>\n",
       "      <td>-0.126598</td>\n",
       "      <td>-0.035311</td>\n",
       "      <td>-0.028826</td>\n",
       "      <td>-0.158450</td>\n",
       "      <td>-0.076456</td>\n",
       "      <td>-0.336476</td>\n",
       "      <td>-0.093776</td>\n",
       "      <td>0.194882</td>\n",
       "    </tr>\n",
       "    <tr>\n",
       "      <th>2405</th>\n",
       "      <td>-0.743460</td>\n",
       "      <td>-0.746299</td>\n",
       "      <td>-0.265275</td>\n",
       "      <td>-0.740511</td>\n",
       "      <td>-0.738339</td>\n",
       "      <td>-0.738339</td>\n",
       "      <td>-1.020803</td>\n",
       "      <td>0.292592</td>\n",
       "      <td>1.286560</td>\n",
       "      <td>-0.741274</td>\n",
       "      <td>0.945446</td>\n",
       "      <td>-0.117851</td>\n",
       "      <td>-0.126598</td>\n",
       "      <td>-0.035311</td>\n",
       "      <td>-0.028826</td>\n",
       "      <td>-0.158450</td>\n",
       "      <td>-0.076456</td>\n",
       "      <td>-0.336476</td>\n",
       "      <td>-0.093776</td>\n",
       "      <td>-0.050399</td>\n",
       "    </tr>\n",
       "    <tr>\n",
       "      <th>2406</th>\n",
       "      <td>-0.713148</td>\n",
       "      <td>-0.715750</td>\n",
       "      <td>-0.474291</td>\n",
       "      <td>-0.711902</td>\n",
       "      <td>-0.709727</td>\n",
       "      <td>-0.709727</td>\n",
       "      <td>0.381583</td>\n",
       "      <td>-0.543666</td>\n",
       "      <td>1.493638</td>\n",
       "      <td>-0.713620</td>\n",
       "      <td>0.945446</td>\n",
       "      <td>-0.117851</td>\n",
       "      <td>-0.126598</td>\n",
       "      <td>-0.035311</td>\n",
       "      <td>-0.028826</td>\n",
       "      <td>-0.158450</td>\n",
       "      <td>-0.076456</td>\n",
       "      <td>-0.336476</td>\n",
       "      <td>-0.093776</td>\n",
       "      <td>-0.044295</td>\n",
       "    </tr>\n",
       "    <tr>\n",
       "      <th>2407</th>\n",
       "      <td>-0.662752</td>\n",
       "      <td>-0.665988</td>\n",
       "      <td>-0.473953</td>\n",
       "      <td>-0.659540</td>\n",
       "      <td>-0.658394</td>\n",
       "      <td>-0.658394</td>\n",
       "      <td>1.489008</td>\n",
       "      <td>-0.729321</td>\n",
       "      <td>1.165245</td>\n",
       "      <td>-0.662649</td>\n",
       "      <td>0.945446</td>\n",
       "      <td>-0.117851</td>\n",
       "      <td>-0.126598</td>\n",
       "      <td>-0.035311</td>\n",
       "      <td>-0.028826</td>\n",
       "      <td>6.311142</td>\n",
       "      <td>-0.076456</td>\n",
       "      <td>2.971978</td>\n",
       "      <td>-0.093776</td>\n",
       "      <td>0.025465</td>\n",
       "    </tr>\n",
       "    <tr>\n",
       "      <th>2408</th>\n",
       "      <td>-0.772008</td>\n",
       "      <td>-0.773875</td>\n",
       "      <td>-0.346964</td>\n",
       "      <td>-0.770864</td>\n",
       "      <td>-0.772920</td>\n",
       "      <td>-0.772920</td>\n",
       "      <td>-0.119364</td>\n",
       "      <td>-1.017192</td>\n",
       "      <td>-0.123086</td>\n",
       "      <td>-0.772682</td>\n",
       "      <td>0.945446</td>\n",
       "      <td>-0.117851</td>\n",
       "      <td>-0.126598</td>\n",
       "      <td>-0.035311</td>\n",
       "      <td>-0.028826</td>\n",
       "      <td>-0.158450</td>\n",
       "      <td>-0.076456</td>\n",
       "      <td>-0.336476</td>\n",
       "      <td>-0.093776</td>\n",
       "      <td>-0.149681</td>\n",
       "    </tr>\n",
       "  </tbody>\n",
       "</table>\n",
       "<p>2409 rows × 20 columns</p>\n",
       "</div>"
      ],
      "text/plain": [
       "           low      open    volume      high     close  adjustedclose  \\\n",
       "0    -0.513044 -0.470734  6.569028 -0.474891 -0.518822      -0.518822   \n",
       "1    -0.787674 -0.786468 -0.841874 -0.788599 -0.788975      -0.788975   \n",
       "2    -0.733516 -0.730695 -0.165466 -0.730978 -0.733349      -0.733349   \n",
       "3    -0.153082 -0.157429 -0.757403 -0.165341 -0.161186      -0.161186   \n",
       "4     2.102230  2.077879 -0.821611  2.054960  2.074768       2.074768   \n",
       "...        ...       ...       ...       ...       ...            ...   \n",
       "2404 -0.314870 -0.315533 -0.559928 -0.322569 -0.318111      -0.318111   \n",
       "2405 -0.743460 -0.746299 -0.265275 -0.740511 -0.738339      -0.738339   \n",
       "2406 -0.713148 -0.715750 -0.474291 -0.711902 -0.709727      -0.709727   \n",
       "2407 -0.662752 -0.665988 -0.473953 -0.659540 -0.658394      -0.658394   \n",
       "2408 -0.772008 -0.773875 -0.346964 -0.770864 -0.772920      -0.772920   \n",
       "\n",
       "           rsi  BBB_5_2.0  BBP_5_2.0      ema7  day_direction  \\\n",
       "0     2.344303   2.147055   1.588133 -0.554139       0.945446   \n",
       "1    -0.543093  -0.425710  -0.835754 -0.785501      -1.057702   \n",
       "2    -1.270621   0.047518   0.773162 -0.731333       0.945446   \n",
       "3     0.388189  -1.233448  -1.281094 -0.158289      -1.057702   \n",
       "4    -0.857408  -0.940601  -0.542727  2.093875       0.945446   \n",
       "...        ...        ...        ...       ...            ...   \n",
       "2404  0.637856  -0.319474   0.716583 -0.326115      -1.057702   \n",
       "2405 -1.020803   0.292592   1.286560 -0.741274       0.945446   \n",
       "2406  0.381583  -0.543666   1.493638 -0.713620       0.945446   \n",
       "2407  1.489008  -0.729321   1.165245 -0.662649       0.945446   \n",
       "2408 -0.119364  -1.017192  -0.123086 -0.772682       0.945446   \n",
       "\n",
       "      golden_crossover_short  death_crossover_short  golden_crossover_long  \\\n",
       "0                  -0.117851              -0.126598              -0.035311   \n",
       "1                  -0.117851              -0.126598              -0.035311   \n",
       "2                  -0.117851              -0.126598              -0.035311   \n",
       "3                  -0.117851              -0.126598              -0.035311   \n",
       "4                  -0.117851              -0.126598              -0.035311   \n",
       "...                      ...                    ...                    ...   \n",
       "2404               -0.117851              -0.126598              -0.035311   \n",
       "2405               -0.117851              -0.126598              -0.035311   \n",
       "2406               -0.117851              -0.126598              -0.035311   \n",
       "2407               -0.117851              -0.126598              -0.035311   \n",
       "2408               -0.117851              -0.126598              -0.035311   \n",
       "\n",
       "      death_crossover_long  RSI_overbought_cross  RSI_oversold_cross  \\\n",
       "0                -0.028826             -0.158450           -0.076456   \n",
       "1                -0.028826             -0.158450           -0.076456   \n",
       "2                -0.028826             -0.158450           -0.076456   \n",
       "3                -0.028826             -0.158450           -0.076456   \n",
       "4                -0.028826             -0.158450           -0.076456   \n",
       "...                    ...                   ...                 ...   \n",
       "2404             -0.028826             -0.158450           -0.076456   \n",
       "2405             -0.028826             -0.158450           -0.076456   \n",
       "2406             -0.028826             -0.158450           -0.076456   \n",
       "2407             -0.028826              6.311142           -0.076456   \n",
       "2408             -0.028826             -0.158450           -0.076456   \n",
       "\n",
       "      RSI_overbought  RSI_oversold  momentum  \n",
       "0           2.971978     -0.093776  0.941558  \n",
       "1          -0.336476     -0.093776 -0.230154  \n",
       "2          -0.336476     -0.093776 -0.339154  \n",
       "3          -0.336476     -0.093776 -0.125515  \n",
       "4          -0.336476     -0.093776 -0.645099  \n",
       "...              ...           ...       ...  \n",
       "2404       -0.336476     -0.093776  0.194882  \n",
       "2405       -0.336476     -0.093776 -0.050399  \n",
       "2406       -0.336476     -0.093776 -0.044295  \n",
       "2407        2.971978     -0.093776  0.025465  \n",
       "2408       -0.336476     -0.093776 -0.149681  \n",
       "\n",
       "[2409 rows x 20 columns]"
      ]
     },
     "execution_count": 32,
     "metadata": {},
     "output_type": "execute_result"
    }
   ],
   "source": [
    "X_train_scaled"
   ]
  },
  {
   "cell_type": "code",
   "execution_count": 33,
   "metadata": {},
   "outputs": [],
   "source": [
    "svr = LinearSVR(random_state = 42, max_iter = 10e5)"
   ]
  },
  {
   "cell_type": "code",
   "execution_count": 34,
   "metadata": {},
   "outputs": [],
   "source": [
    "svrmodel = svr.fit(X_train_scaled, y_train)"
   ]
  },
  {
   "cell_type": "code",
   "execution_count": 35,
   "metadata": {},
   "outputs": [
    {
     "name": "stdout",
     "output_type": "stream",
     "text": [
      "Train Score : 0.9990214197082179\n",
      "Train RMSE : 32.280505992629045\n",
      "Mean Train Cross-Validation Score: 0.9979365918889324\n"
     ]
    }
   ],
   "source": [
    "train_score = svr.score(X_train_scaled, y_train)\n",
    "y_hat_train = svr.predict(X_train_scaled)\n",
    "train_rmse = mean_squared_error(y_train, y_hat_train, squared = False)\n",
    "train_cv_score = cross_val_score(svrmodel, X_train_scaled, y_train, n_jobs = -1).mean()\n",
    "\n",
    "print(f'Train Score : {train_score}')\n",
    "print(f'Train RMSE : {train_rmse}')\n",
    "print(f'Mean Train Cross-Validation Score: {train_cv_score}')"
   ]
  },
  {
   "cell_type": "code",
   "execution_count": 36,
   "metadata": {},
   "outputs": [
    {
     "data": {
      "image/png": "[encoded data removed]",
      "text/plain": [
       "<Figure size 1728x504 with 1 Axes>"
      ]
     },
     "metadata": {
      "needs_background": "light"
     },
     "output_type": "display_data"
    }
   ],
   "source": [
    "fig, ax = plt.subplots(figsize = (24,7))\n",
    "plot_x = y_train.index\n",
    "plot_y = (y_hat_train - y_train)/y_train\n",
    "plt.scatter(plot_x,plot_y)\n",
    "ax.yaxis.set_major_formatter('{x:1,.2%}')\n",
    "plt.axhline(y=0, alpha = .5, color = 'red', linewidth = 4.0);"
   ]
  },
  {
   "cell_type": "code",
   "execution_count": 37,
   "metadata": {},
   "outputs": [
    {
     "name": "stdout",
     "output_type": "stream",
     "text": [
      "Test Score : 0.9988457580162919\n",
      "Test RMSE : 35.77320031201362\n"
     ]
    }
   ],
   "source": [
    "test_score = svr.score(X_test_scaled, y_test)\n",
    "y_hat_test = svr.predict(X_test_scaled)\n",
    "test_rmse = mean_squared_error(y_test, y_hat_test, squared = False)\n",
    "\n",
    "print(f'Test Score : {test_score}')\n",
    "print(f'Test RMSE : {test_rmse}')"
   ]
  },
  {
   "cell_type": "code",
   "execution_count": 38,
   "metadata": {},
   "outputs": [
    {
     "data": {
      "image/png": "[encoded data removed]",
      "text/plain": [
       "<Figure size 1728x504 with 1 Axes>"
      ]
     },
     "metadata": {
      "needs_background": "light"
     },
     "output_type": "display_data"
    }
   ],
   "source": [
    "fig, ax = plt.subplots(figsize = (24,7))\n",
    "ax.scatter(y_test.index, (y_hat_test - y_test)/y_test)\n",
    "ax.yaxis.set_major_formatter('{x:1,.2%}')\n",
    "plt.axhline(y=0, alpha = .5, color = 'red', linewidth = 4.0);"
   ]
  },
  {
   "cell_type": "code",
   "execution_count": 48,
   "metadata": {},
   "outputs": [],
   "source": [
    "preds = pd.concat([y_train, pd.DataFrame(y_hat_train, columns = ['predictions'], index = y_train.index)], axis = 1)"
   ]
  },
  {
   "cell_type": "code",
   "execution_count": null,
   "metadata": {},
   "outputs": [],
   "source": []
  },
  {
   "cell_type": "code",
   "execution_count": null,
   "metadata": {},
   "outputs": [],
   "source": []
  }
 ],
 "metadata": {
  "kernelspec": {
   "display_name": "Python (learn-env)",
   "language": "python",
   "name": "learn-env"
  },
  "language_info": {
   "codemirror_mode": {
    "name": "ipython",
    "version": 3
   },
   "file_extension": ".py",
   "mimetype": "text/x-python",
   "name": "python",
   "nbconvert_exporter": "python",
   "pygments_lexer": "ipython3",
   "version": "3.8.5"
  }
 },
 "nbformat": 4,
 "nbformat_minor": 4
}
