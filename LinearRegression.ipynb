{
 "cells": [
  {
   "cell_type": "code",
   "execution_count": 21,
   "metadata": {},
   "outputs": [],
   "source": [
    "import requests\n",
    "import io\n",
    "import pandas as pd\n",
    "import numpy as np\n",
    "import pandas_ta as ta\n",
    "import matplotlib.pyplot as plt\n",
    "from statsmodels.tsa.seasonal import seasonal_decompose\n",
    "from statsmodels.tsa.stattools import adfuller\n",
    "\n",
    "%matplotlib inline\n",
    "from sklearn.linear_model import LogisticRegression\n",
    "from sklearn.model_selection import cross_val_score, train_test_split,GridSearchCV\n",
    "from sklearn.metrics import plot_confusion_matrix, plot_roc_curve, accuracy_score, recall_score, precision_score, f1_score\n",
    "from sklearn.tree import DecisionTreeClassifier, plot_tree\n",
    "from sklearn.preprocessing import StandardScaler\n",
    "from sklearn.feature_selection import RFECV\n",
    "from xgboost import XGBClassifier\n",
    "from statsmodels.tools.tools import add_constant\n",
    "from os import listdir\n",
    "from os.path import isfile, join\n",
    "\n",
    "import warnings\n",
    "warnings.filterwarnings(\"ignore\")"
   ]
  },
  {
   "cell_type": "code",
   "execution_count": 2,
   "metadata": {},
   "outputs": [],
   "source": [
    "df = pd.read_csv('APPL_formatted.csv', index_col = 0)\n",
    "df.dropna(inplace = True)"
   ]
  },
  {
   "cell_type": "code",
   "execution_count": 3,
   "metadata": {},
   "outputs": [],
   "source": [
    "df.index = pd.to_datetime(df.index)"
   ]
  },
  {
   "cell_type": "code",
   "execution_count": 4,
   "metadata": {},
   "outputs": [],
   "source": [
    "df2 = df.drop(['sma252','sma50','ema22zone','ema252zone', 'ema50', 'BBU_5_2.0', 'ema7zone', 'sma22', 'ema50zone', 'BBL_5_2.0', 'BBM_5_2.0', 'ema22', 'sma7','ema252'],axis = 1)"
   ]
  },
  {
   "cell_type": "code",
   "execution_count": 5,
   "metadata": {},
   "outputs": [],
   "source": [
    "corrs = df2.corr().stack().reset_index()\n",
    "corrs.columns = ['1','2','R2']\n",
    "temp = corrs[(corrs.R2 > .8) & (corrs.R2 < .999)].sort_values('R2', ascending = False).reset_index(drop = True)\n",
    "correlations = temp[temp.index % 2 == 0]"
   ]
  },
  {
   "cell_type": "code",
   "execution_count": 6,
   "metadata": {},
   "outputs": [
    {
     "data": {
      "text/html": [
       "<div>\n",
       "<style scoped>\n",
       "    .dataframe tbody tr th:only-of-type {\n",
       "        vertical-align: middle;\n",
       "    }\n",
       "\n",
       "    .dataframe tbody tr th {\n",
       "        vertical-align: top;\n",
       "    }\n",
       "\n",
       "    .dataframe thead th {\n",
       "        text-align: right;\n",
       "    }\n",
       "</style>\n",
       "<table border=\"1\" class=\"dataframe\">\n",
       "  <thead>\n",
       "    <tr style=\"text-align: right;\">\n",
       "      <th></th>\n",
       "      <th>1</th>\n",
       "      <th>2</th>\n",
       "      <th>R2</th>\n",
       "    </tr>\n",
       "  </thead>\n",
       "  <tbody>\n",
       "  </tbody>\n",
       "</table>\n",
       "</div>"
      ],
      "text/plain": [
       "Empty DataFrame\n",
       "Columns: [1, 2, R2]\n",
       "Index: []"
      ]
     },
     "execution_count": 6,
     "metadata": {},
     "output_type": "execute_result"
    }
   ],
   "source": [
    "correlations"
   ]
  },
  {
   "cell_type": "code",
   "execution_count": 7,
   "metadata": {},
   "outputs": [],
   "source": [
    "X = df2.shift(1).dropna()\n",
    "y = df2['adjustedclose'].iloc[1:]"
   ]
  },
  {
   "cell_type": "code",
   "execution_count": 8,
   "metadata": {},
   "outputs": [
    {
     "name": "stdout",
     "output_type": "stream",
     "text": [
      "(8073, 20) (2019, 20)\n",
      "(8073,) (2019,)\n"
     ]
    }
   ],
   "source": [
    "X_train, X_test, y_train, y_test = train_test_split(X, y, test_size = .2, random_state = 42)\n",
    "\n",
    "print(X_train.shape, X_test.shape)\n",
    "print(y_train.shape, y_test.shape)"
   ]
  },
  {
   "cell_type": "code",
   "execution_count": 9,
   "metadata": {},
   "outputs": [],
   "source": [
    "ss = StandardScaler()\n",
    "X_train_scaled = ss.fit_transform(X_train)\n",
    "X_test_scaled = ss.transform(X_test)\n",
    "\n",
    "X_train_scaled = pd.DataFrame(X_train_scaled, columns=X_train.columns)\n",
    "X_test_scaled = pd.DataFrame(X_test_scaled, columns=X_test.columns)"
   ]
  },
  {
   "cell_type": "code",
   "execution_count": 10,
   "metadata": {},
   "outputs": [],
   "source": [
    "X_train_scaled.set_index(y_train.index, inplace = True)"
   ]
  },
  {
   "cell_type": "code",
   "execution_count": 11,
   "metadata": {},
   "outputs": [],
   "source": [
    "from statsmodels.regression.linear_model import OLS"
   ]
  },
  {
   "cell_type": "code",
   "execution_count": 32,
   "metadata": {},
   "outputs": [],
   "source": [
    "exog_train = add_constant(X_train_scaled)\n",
    "exog_test = add_constant(X_test_scaled)"
   ]
  },
  {
   "cell_type": "code",
   "execution_count": 33,
   "metadata": {},
   "outputs": [],
   "source": [
    "lin_reg = OLS(y_train, exog_train, hasconst = True)"
   ]
  },
  {
   "cell_type": "code",
   "execution_count": 34,
   "metadata": {},
   "outputs": [],
   "source": [
    "results = lin_reg.fit()"
   ]
  },
  {
   "cell_type": "code",
   "execution_count": 35,
   "metadata": {},
   "outputs": [
    {
     "data": {
      "text/html": [
       "<table class=\"simpletable\">\n",
       "<caption>OLS Regression Results</caption>\n",
       "<tr>\n",
       "  <th>Dep. Variable:</th>      <td>adjustedclose</td>  <th>  R-squared:         </th> <td>   1.000</td> \n",
       "</tr>\n",
       "<tr>\n",
       "  <th>Model:</th>                   <td>OLS</td>       <th>  Adj. R-squared:    </th> <td>   1.000</td> \n",
       "</tr>\n",
       "<tr>\n",
       "  <th>Method:</th>             <td>Least Squares</td>  <th>  F-statistic:       </th> <td>9.768e+05</td>\n",
       "</tr>\n",
       "<tr>\n",
       "  <th>Date:</th>             <td>Wed, 12 Jan 2022</td> <th>  Prob (F-statistic):</th>  <td>  0.00</td>  \n",
       "</tr>\n",
       "<tr>\n",
       "  <th>Time:</th>                 <td>13:33:04</td>     <th>  Log-Likelihood:    </th> <td> -6701.4</td> \n",
       "</tr>\n",
       "<tr>\n",
       "  <th>No. Observations:</th>      <td>  8073</td>      <th>  AIC:               </th> <td>1.344e+04</td>\n",
       "</tr>\n",
       "<tr>\n",
       "  <th>Df Residuals:</th>          <td>  8052</td>      <th>  BIC:               </th> <td>1.359e+04</td>\n",
       "</tr>\n",
       "<tr>\n",
       "  <th>Df Model:</th>              <td>    20</td>      <th>                     </th>     <td> </td>    \n",
       "</tr>\n",
       "<tr>\n",
       "  <th>Covariance Type:</th>      <td>nonrobust</td>    <th>                     </th>     <td> </td>    \n",
       "</tr>\n",
       "</table>\n",
       "<table class=\"simpletable\">\n",
       "<tr>\n",
       "             <td></td>               <th>coef</th>     <th>std err</th>      <th>t</th>      <th>P>|t|</th>  <th>[0.025</th>    <th>0.975]</th>  \n",
       "</tr>\n",
       "<tr>\n",
       "  <th>const</th>                  <td>   12.6118</td> <td>    0.006</td> <td> 2039.187</td> <td> 0.000</td> <td>   12.600</td> <td>   12.624</td>\n",
       "</tr>\n",
       "<tr>\n",
       "  <th>low</th>                    <td>   11.8378</td> <td>    0.772</td> <td>   15.333</td> <td> 0.000</td> <td>   10.324</td> <td>   13.351</td>\n",
       "</tr>\n",
       "<tr>\n",
       "  <th>open</th>                   <td>   -8.9406</td> <td>    0.829</td> <td>  -10.782</td> <td> 0.000</td> <td>  -10.566</td> <td>   -7.315</td>\n",
       "</tr>\n",
       "<tr>\n",
       "  <th>volume</th>                 <td>   -0.0007</td> <td>    0.007</td> <td>   -0.102</td> <td> 0.919</td> <td>   -0.014</td> <td>    0.013</td>\n",
       "</tr>\n",
       "<tr>\n",
       "  <th>high</th>                   <td>    8.9917</td> <td>    0.910</td> <td>    9.876</td> <td> 0.000</td> <td>    7.207</td> <td>   10.776</td>\n",
       "</tr>\n",
       "<tr>\n",
       "  <th>close</th>                  <td>  -13.4055</td> <td>    0.843</td> <td>  -15.908</td> <td> 0.000</td> <td>  -15.057</td> <td>  -11.754</td>\n",
       "</tr>\n",
       "<tr>\n",
       "  <th>adjustedclose</th>          <td>   27.4735</td> <td>    0.229</td> <td>  120.231</td> <td> 0.000</td> <td>   27.026</td> <td>   27.921</td>\n",
       "</tr>\n",
       "<tr>\n",
       "  <th>rsi</th>                    <td>   -0.0027</td> <td>    0.010</td> <td>   -0.264</td> <td> 0.792</td> <td>   -0.022</td> <td>    0.017</td>\n",
       "</tr>\n",
       "<tr>\n",
       "  <th>BBB_5_2.0</th>              <td>    0.0031</td> <td>    0.007</td> <td>    0.431</td> <td> 0.666</td> <td>   -0.011</td> <td>    0.017</td>\n",
       "</tr>\n",
       "<tr>\n",
       "  <th>BBP_5_2.0</th>              <td>    0.0045</td> <td>    0.010</td> <td>    0.465</td> <td> 0.642</td> <td>   -0.014</td> <td>    0.024</td>\n",
       "</tr>\n",
       "<tr>\n",
       "  <th>ema7</th>                   <td>    1.3762</td> <td>    0.543</td> <td>    2.534</td> <td> 0.011</td> <td>    0.312</td> <td>    2.441</td>\n",
       "</tr>\n",
       "<tr>\n",
       "  <th>day_direction</th>          <td>    0.0072</td> <td>    0.008</td> <td>    0.879</td> <td> 0.380</td> <td>   -0.009</td> <td>    0.023</td>\n",
       "</tr>\n",
       "<tr>\n",
       "  <th>golden_crossover_short</th> <td>    0.0075</td> <td>    0.006</td> <td>    1.204</td> <td> 0.229</td> <td>   -0.005</td> <td>    0.020</td>\n",
       "</tr>\n",
       "<tr>\n",
       "  <th>death_crossover_short</th>  <td>    0.0004</td> <td>    0.006</td> <td>    0.067</td> <td> 0.947</td> <td>   -0.012</td> <td>    0.013</td>\n",
       "</tr>\n",
       "<tr>\n",
       "  <th>golden_crossover_long</th>  <td>    0.0014</td> <td>    0.006</td> <td>    0.232</td> <td> 0.816</td> <td>   -0.011</td> <td>    0.014</td>\n",
       "</tr>\n",
       "<tr>\n",
       "  <th>death_crossover_long</th>   <td>    0.0018</td> <td>    0.006</td> <td>    0.282</td> <td> 0.778</td> <td>   -0.010</td> <td>    0.014</td>\n",
       "</tr>\n",
       "<tr>\n",
       "  <th>RSI_overbought_cross</th>   <td>    0.0008</td> <td>    0.007</td> <td>    0.114</td> <td> 0.910</td> <td>   -0.013</td> <td>    0.015</td>\n",
       "</tr>\n",
       "<tr>\n",
       "  <th>RSI_oversold_cross</th>     <td>   -0.0085</td> <td>    0.007</td> <td>   -1.181</td> <td> 0.238</td> <td>   -0.023</td> <td>    0.006</td>\n",
       "</tr>\n",
       "<tr>\n",
       "  <th>RSI_overbought</th>         <td>    0.0118</td> <td>    0.009</td> <td>    1.349</td> <td> 0.177</td> <td>   -0.005</td> <td>    0.029</td>\n",
       "</tr>\n",
       "<tr>\n",
       "  <th>RSI_oversold</th>           <td>    0.0023</td> <td>    0.008</td> <td>    0.285</td> <td> 0.776</td> <td>   -0.013</td> <td>    0.018</td>\n",
       "</tr>\n",
       "<tr>\n",
       "  <th>momentum</th>               <td>    0.0080</td> <td>    0.011</td> <td>    0.714</td> <td> 0.476</td> <td>   -0.014</td> <td>    0.030</td>\n",
       "</tr>\n",
       "</table>\n",
       "<table class=\"simpletable\">\n",
       "<tr>\n",
       "  <th>Omnibus:</th>       <td>2898.352</td> <th>  Durbin-Watson:     </th>  <td>   1.990</td>  \n",
       "</tr>\n",
       "<tr>\n",
       "  <th>Prob(Omnibus):</th>  <td> 0.000</td>  <th>  Jarque-Bera (JB):  </th> <td>1308591.470</td>\n",
       "</tr>\n",
       "<tr>\n",
       "  <th>Skew:</th>           <td> 0.188</td>  <th>  Prob(JB):          </th>  <td>    0.00</td>  \n",
       "</tr>\n",
       "<tr>\n",
       "  <th>Kurtosis:</th>       <td>65.371</td>  <th>  Cond. No.          </th>  <td>    560.</td>  \n",
       "</tr>\n",
       "</table><br/><br/>Notes:<br/>[1] Standard Errors assume that the covariance matrix of the errors is correctly specified."
      ],
      "text/plain": [
       "<class 'statsmodels.iolib.summary.Summary'>\n",
       "\"\"\"\n",
       "                            OLS Regression Results                            \n",
       "==============================================================================\n",
       "Dep. Variable:          adjustedclose   R-squared:                       1.000\n",
       "Model:                            OLS   Adj. R-squared:                  1.000\n",
       "Method:                 Least Squares   F-statistic:                 9.768e+05\n",
       "Date:                Wed, 12 Jan 2022   Prob (F-statistic):               0.00\n",
       "Time:                        13:33:04   Log-Likelihood:                -6701.4\n",
       "No. Observations:                8073   AIC:                         1.344e+04\n",
       "Df Residuals:                    8052   BIC:                         1.359e+04\n",
       "Df Model:                          20                                         \n",
       "Covariance Type:            nonrobust                                         \n",
       "==========================================================================================\n",
       "                             coef    std err          t      P>|t|      [0.025      0.975]\n",
       "------------------------------------------------------------------------------------------\n",
       "const                     12.6118      0.006   2039.187      0.000      12.600      12.624\n",
       "low                       11.8378      0.772     15.333      0.000      10.324      13.351\n",
       "open                      -8.9406      0.829    -10.782      0.000     -10.566      -7.315\n",
       "volume                    -0.0007      0.007     -0.102      0.919      -0.014       0.013\n",
       "high                       8.9917      0.910      9.876      0.000       7.207      10.776\n",
       "close                    -13.4055      0.843    -15.908      0.000     -15.057     -11.754\n",
       "adjustedclose             27.4735      0.229    120.231      0.000      27.026      27.921\n",
       "rsi                       -0.0027      0.010     -0.264      0.792      -0.022       0.017\n",
       "BBB_5_2.0                  0.0031      0.007      0.431      0.666      -0.011       0.017\n",
       "BBP_5_2.0                  0.0045      0.010      0.465      0.642      -0.014       0.024\n",
       "ema7                       1.3762      0.543      2.534      0.011       0.312       2.441\n",
       "day_direction              0.0072      0.008      0.879      0.380      -0.009       0.023\n",
       "golden_crossover_short     0.0075      0.006      1.204      0.229      -0.005       0.020\n",
       "death_crossover_short      0.0004      0.006      0.067      0.947      -0.012       0.013\n",
       "golden_crossover_long      0.0014      0.006      0.232      0.816      -0.011       0.014\n",
       "death_crossover_long       0.0018      0.006      0.282      0.778      -0.010       0.014\n",
       "RSI_overbought_cross       0.0008      0.007      0.114      0.910      -0.013       0.015\n",
       "RSI_oversold_cross        -0.0085      0.007     -1.181      0.238      -0.023       0.006\n",
       "RSI_overbought             0.0118      0.009      1.349      0.177      -0.005       0.029\n",
       "RSI_oversold               0.0023      0.008      0.285      0.776      -0.013       0.018\n",
       "momentum                   0.0080      0.011      0.714      0.476      -0.014       0.030\n",
       "==============================================================================\n",
       "Omnibus:                     2898.352   Durbin-Watson:                   1.990\n",
       "Prob(Omnibus):                  0.000   Jarque-Bera (JB):          1308591.470\n",
       "Skew:                           0.188   Prob(JB):                         0.00\n",
       "Kurtosis:                      65.371   Cond. No.                         560.\n",
       "==============================================================================\n",
       "\n",
       "Notes:\n",
       "[1] Standard Errors assume that the covariance matrix of the errors is correctly specified.\n",
       "\"\"\""
      ]
     },
     "execution_count": 35,
     "metadata": {},
     "output_type": "execute_result"
    }
   ],
   "source": [
    "results.summary()"
   ]
  },
  {
   "cell_type": "code",
   "execution_count": 37,
   "metadata": {},
   "outputs": [],
   "source": [
    "y_hat = lin_reg.predict(results.params, exog_test)"
   ]
  },
  {
   "cell_type": "code",
   "execution_count": 38,
   "metadata": {},
   "outputs": [],
   "source": [
    "resids = y_hat - y_test"
   ]
  },
  {
   "cell_type": "code",
   "execution_count": 39,
   "metadata": {},
   "outputs": [],
   "source": [
    "resids.sort_index(inplace=True)"
   ]
  },
  {
   "cell_type": "code",
   "execution_count": 40,
   "metadata": {},
   "outputs": [
    {
     "data": {
      "text/plain": [
       "<AxesSubplot:xlabel='date'>"
      ]
     },
     "execution_count": 40,
     "metadata": {},
     "output_type": "execute_result"
    },
    {
     "data": {
      "image/png": "[encoded data removed]",
      "text/plain": [
       "<Figure size 1728x504 with 1 Axes>"
      ]
     },
     "metadata": {
      "needs_background": "light"
     },
     "output_type": "display_data"
    }
   ],
   "source": [
    "resids.plot(figsize = (24,7))"
   ]
  },
  {
   "cell_type": "code",
   "execution_count": null,
   "metadata": {},
   "outputs": [],
   "source": []
  }
 ],
 "metadata": {
  "kernelspec": {
   "display_name": "Python (learn-env)",
   "language": "python",
   "name": "learn-env"
  },
  "language_info": {
   "codemirror_mode": {
    "name": "ipython",
    "version": 3
   },
   "file_extension": ".py",
   "mimetype": "text/x-python",
   "name": "python",
   "nbconvert_exporter": "python",
   "pygments_lexer": "ipython3",
   "version": "3.8.5"
  }
 },
 "nbformat": 4,
 "nbformat_minor": 4
}
