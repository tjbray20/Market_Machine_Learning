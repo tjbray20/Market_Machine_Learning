{
 "cells": [
  {
   "cell_type": "code",
   "execution_count": 2,
   "metadata": {},
   "outputs": [],
   "source": [
    "import pandas as pd"
   ]
  },
  {
   "cell_type": "code",
   "execution_count": 3,
   "metadata": {},
   "outputs": [],
   "source": [
    "macro = pd.read_csv('macro_monthly.csv')"
   ]
  },
  {
   "cell_type": "code",
   "execution_count": 4,
   "metadata": {},
   "outputs": [],
   "source": [
    "macro['DATE'] = pd.to_datetime(macro['DATE'])\n",
    "macro.set_index('DATE', inplace = True)"
   ]
  },
  {
   "cell_type": "code",
   "execution_count": 5,
   "metadata": {},
   "outputs": [
    {
     "data": {
      "text/html": [
       "<div>\n",
       "<style scoped>\n",
       "    .dataframe tbody tr th:only-of-type {\n",
       "        vertical-align: middle;\n",
       "    }\n",
       "\n",
       "    .dataframe tbody tr th {\n",
       "        vertical-align: top;\n",
       "    }\n",
       "\n",
       "    .dataframe thead th {\n",
       "        text-align: right;\n",
       "    }\n",
       "</style>\n",
       "<table border=\"1\" class=\"dataframe\">\n",
       "  <thead>\n",
       "    <tr style=\"text-align: right;\">\n",
       "      <th></th>\n",
       "      <th>psr</th>\n",
       "      <th>m2</th>\n",
       "      <th>ccpi</th>\n",
       "      <th>dspic</th>\n",
       "      <th>ir</th>\n",
       "      <th>ffer</th>\n",
       "    </tr>\n",
       "    <tr>\n",
       "      <th>DATE</th>\n",
       "      <th></th>\n",
       "      <th></th>\n",
       "      <th></th>\n",
       "      <th></th>\n",
       "      <th></th>\n",
       "      <th></th>\n",
       "    </tr>\n",
       "  </thead>\n",
       "  <tbody>\n",
       "    <tr>\n",
       "      <th>1981-01-01</th>\n",
       "      <td>10.9</td>\n",
       "      <td>1612.900</td>\n",
       "      <td>85.400</td>\n",
       "      <td>4980.4</td>\n",
       "      <td>12.568571</td>\n",
       "      <td>19.084516</td>\n",
       "    </tr>\n",
       "    <tr>\n",
       "      <th>1981-02-01</th>\n",
       "      <td>10.8</td>\n",
       "      <td>1608.125</td>\n",
       "      <td>85.900</td>\n",
       "      <td>4965.0</td>\n",
       "      <td>13.194444</td>\n",
       "      <td>15.934286</td>\n",
       "    </tr>\n",
       "    <tr>\n",
       "      <th>1981-03-01</th>\n",
       "      <td>10.8</td>\n",
       "      <td>1629.400</td>\n",
       "      <td>86.400</td>\n",
       "      <td>4979.0</td>\n",
       "      <td>13.115909</td>\n",
       "      <td>14.703871</td>\n",
       "    </tr>\n",
       "    <tr>\n",
       "      <th>1981-04-01</th>\n",
       "      <td>10.9</td>\n",
       "      <td>1665.575</td>\n",
       "      <td>87.000</td>\n",
       "      <td>4965.1</td>\n",
       "      <td>13.679524</td>\n",
       "      <td>15.719000</td>\n",
       "    </tr>\n",
       "    <tr>\n",
       "      <th>1981-05-01</th>\n",
       "      <td>11.0</td>\n",
       "      <td>1655.150</td>\n",
       "      <td>87.800</td>\n",
       "      <td>4974.8</td>\n",
       "      <td>14.099500</td>\n",
       "      <td>18.517742</td>\n",
       "    </tr>\n",
       "    <tr>\n",
       "      <th>...</th>\n",
       "      <td>...</td>\n",
       "      <td>...</td>\n",
       "      <td>...</td>\n",
       "      <td>...</td>\n",
       "      <td>...</td>\n",
       "      <td>...</td>\n",
       "    </tr>\n",
       "    <tr>\n",
       "      <th>2021-06-01</th>\n",
       "      <td>9.5</td>\n",
       "      <td>20463.275</td>\n",
       "      <td>278.140</td>\n",
       "      <td>15603.3</td>\n",
       "      <td>1.519091</td>\n",
       "      <td>0.078000</td>\n",
       "    </tr>\n",
       "    <tr>\n",
       "      <th>2021-07-01</th>\n",
       "      <td>10.6</td>\n",
       "      <td>20589.975</td>\n",
       "      <td>279.054</td>\n",
       "      <td>15739.4</td>\n",
       "      <td>1.318571</td>\n",
       "      <td>0.098065</td>\n",
       "    </tr>\n",
       "    <tr>\n",
       "      <th>2021-08-01</th>\n",
       "      <td>9.9</td>\n",
       "      <td>20788.780</td>\n",
       "      <td>279.338</td>\n",
       "      <td>15723.0</td>\n",
       "      <td>1.283182</td>\n",
       "      <td>0.092258</td>\n",
       "    </tr>\n",
       "    <tr>\n",
       "      <th>2021-09-01</th>\n",
       "      <td>8.2</td>\n",
       "      <td>20981.450</td>\n",
       "      <td>280.017</td>\n",
       "      <td>15468.7</td>\n",
       "      <td>1.374762</td>\n",
       "      <td>0.079333</td>\n",
       "    </tr>\n",
       "    <tr>\n",
       "      <th>2021-10-01</th>\n",
       "      <td>7.3</td>\n",
       "      <td>21152.350</td>\n",
       "      <td>281.695</td>\n",
       "      <td>15425.2</td>\n",
       "      <td>1.582500</td>\n",
       "      <td>0.079032</td>\n",
       "    </tr>\n",
       "  </tbody>\n",
       "</table>\n",
       "<p>490 rows × 6 columns</p>\n",
       "</div>"
      ],
      "text/plain": [
       "             psr         m2     ccpi    dspic         ir       ffer\n",
       "DATE                                                               \n",
       "1981-01-01  10.9   1612.900   85.400   4980.4  12.568571  19.084516\n",
       "1981-02-01  10.8   1608.125   85.900   4965.0  13.194444  15.934286\n",
       "1981-03-01  10.8   1629.400   86.400   4979.0  13.115909  14.703871\n",
       "1981-04-01  10.9   1665.575   87.000   4965.1  13.679524  15.719000\n",
       "1981-05-01  11.0   1655.150   87.800   4974.8  14.099500  18.517742\n",
       "...          ...        ...      ...      ...        ...        ...\n",
       "2021-06-01   9.5  20463.275  278.140  15603.3   1.519091   0.078000\n",
       "2021-07-01  10.6  20589.975  279.054  15739.4   1.318571   0.098065\n",
       "2021-08-01   9.9  20788.780  279.338  15723.0   1.283182   0.092258\n",
       "2021-09-01   8.2  20981.450  280.017  15468.7   1.374762   0.079333\n",
       "2021-10-01   7.3  21152.350  281.695  15425.2   1.582500   0.079032\n",
       "\n",
       "[490 rows x 6 columns]"
      ]
     },
     "execution_count": 5,
     "metadata": {},
     "output_type": "execute_result"
    }
   ],
   "source": [
    "#Personal Savings Rate, M2 Money Supply, Core Consumer Price Index, Disposable Personal Income, Treasury Rate, Federal Funds Rate, Industrial Production\n",
    "macro[['psr','m2','ccpi', 'dspic', 'ir', 'ffer']]"
   ]
  },
  {
   "cell_type": "code",
   "execution_count": 6,
   "metadata": {},
   "outputs": [],
   "source": [
    "dates = pd.date_range(macro.index.min(), '2021-12-31', name = 'date')"
   ]
  },
  {
   "cell_type": "code",
   "execution_count": 10,
   "metadata": {},
   "outputs": [],
   "source": [
    "macro = macro.reindex(dates, method = 'ffill')"
   ]
  },
  {
   "cell_type": "code",
   "execution_count": null,
   "metadata": {},
   "outputs": [],
   "source": []
  },
  {
   "cell_type": "code",
   "execution_count": 15,
   "metadata": {},
   "outputs": [],
   "source": [
    "macro.to_csv('macro_daily.csv')"
   ]
  },
  {
   "cell_type": "code",
   "execution_count": null,
   "metadata": {},
   "outputs": [],
   "source": []
  }
 ],
 "metadata": {
  "kernelspec": {
   "display_name": "Python (learn-env)",
   "language": "python",
   "name": "learn-env"
  },
  "language_info": {
   "codemirror_mode": {
    "name": "ipython",
    "version": 3
   },
   "file_extension": ".py",
   "mimetype": "text/x-python",
   "name": "python",
   "nbconvert_exporter": "python",
   "pygments_lexer": "ipython3",
   "version": "3.8.5"
  }
 },
 "nbformat": 4,
 "nbformat_minor": 4
}
